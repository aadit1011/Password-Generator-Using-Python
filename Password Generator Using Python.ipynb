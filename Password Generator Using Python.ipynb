{
 "cells": [
  {
   "cell_type": "code",
   "execution_count": 1,
   "id": "41d9e5c6-6b56-481f-ab0d-4bda3f5fc5d6",
   "metadata": {},
   "outputs": [
    {
     "name": "stdout",
     "output_type": "stream",
     "text": [
      "Welcome to password generator by Aadit Sharma\n",
      "Let's start the password generation........\n"
     ]
    },
    {
     "name": "stdin",
     "output_type": "stream",
     "text": [
      "Enter the length of the password you want to generate= 12\n"
     ]
    },
    {
     "name": "stdout",
     "output_type": "stream",
     "text": [
      "UKgdKCkMD31I is the randomly generated password..\n"
     ]
    }
   ],
   "source": [
    "#Welcome to password generator by Aadit Sharma\n",
    "import random\n",
    "import string\n",
    "password='';\n",
    "def main():\n",
    "    print(\"Welcome to password generator by Aadit Sharma\");\n",
    "    print(\"Let's start the password generation........\");\n",
    "    length=int(input(\"Enter the length of the password you want to generate=\"));\n",
    "    finalValue=generate(length);\n",
    "    print(finalValue+\" is the randomly generated password..\");\n",
    "\n",
    "def generate(length):\n",
    "        global password;\n",
    "        char=string.ascii_letters+string.digits+',.!@#$%^&*()';\n",
    "        for _ in range(length):        \n",
    "                        password+=random.choice(char);\n",
    "        return password;\n",
    "main();\n"
   ]
  },
  {
   "cell_type": "code",
   "execution_count": null,
   "id": "7581753a-eab3-4bd3-98bc-cecf1eac3e7e",
   "metadata": {},
   "outputs": [],
   "source": []
  }
 ],
 "metadata": {
  "kernelspec": {
   "display_name": "Python 3 (ipykernel)",
   "language": "python",
   "name": "python3"
  },
  "language_info": {
   "codemirror_mode": {
    "name": "ipython",
    "version": 3
   },
   "file_extension": ".py",
   "mimetype": "text/x-python",
   "name": "python",
   "nbconvert_exporter": "python",
   "pygments_lexer": "ipython3",
   "version": "3.12.2"
  }
 },
 "nbformat": 4,
 "nbformat_minor": 5
}
